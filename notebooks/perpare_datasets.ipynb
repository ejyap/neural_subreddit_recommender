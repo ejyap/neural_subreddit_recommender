{
 "cells": [
  {
   "cell_type": "markdown",
   "metadata": {},
   "source": [
    "# Data Preprocessing"
   ]
  },
  {
   "cell_type": "code",
   "execution_count": 2,
   "metadata": {
    "scrolled": true
   },
   "outputs": [],
   "source": [
    "import pandas as pd\n",
    "import json\n",
    "import random"
   ]
  },
  {
   "cell_type": "code",
   "execution_count": 60,
   "metadata": {},
   "outputs": [
    {
     "data": {
      "text/html": [
       "<div>\n",
       "<style scoped>\n",
       "    .dataframe tbody tr th:only-of-type {\n",
       "        vertical-align: middle;\n",
       "    }\n",
       "\n",
       "    .dataframe tbody tr th {\n",
       "        vertical-align: top;\n",
       "    }\n",
       "\n",
       "    .dataframe thead th {\n",
       "        text-align: right;\n",
       "    }\n",
       "</style>\n",
       "<table border=\"1\" class=\"dataframe\">\n",
       "  <thead>\n",
       "    <tr style=\"text-align: right;\">\n",
       "      <th></th>\n",
       "      <th>username</th>\n",
       "      <th>subreddit</th>\n",
       "      <th>utc</th>\n",
       "    </tr>\n",
       "  </thead>\n",
       "  <tbody>\n",
       "    <tr>\n",
       "      <th>0</th>\n",
       "      <td>plzstoptalkingg</td>\n",
       "      <td>assholedesign</td>\n",
       "      <td>1.562740e+09</td>\n",
       "    </tr>\n",
       "    <tr>\n",
       "      <th>1</th>\n",
       "      <td>plzstoptalkingg</td>\n",
       "      <td>BrandNewSentence</td>\n",
       "      <td>1.562711e+09</td>\n",
       "    </tr>\n",
       "    <tr>\n",
       "      <th>2</th>\n",
       "      <td>plzstoptalkingg</td>\n",
       "      <td>goodomens</td>\n",
       "      <td>1.562644e+09</td>\n",
       "    </tr>\n",
       "    <tr>\n",
       "      <th>3</th>\n",
       "      <td>plzstoptalkingg</td>\n",
       "      <td>goodomens</td>\n",
       "      <td>1.562636e+09</td>\n",
       "    </tr>\n",
       "    <tr>\n",
       "      <th>4</th>\n",
       "      <td>plzstoptalkingg</td>\n",
       "      <td>relationships</td>\n",
       "      <td>1.562629e+09</td>\n",
       "    </tr>\n",
       "  </tbody>\n",
       "</table>\n",
       "</div>"
      ],
      "text/plain": [
       "          username         subreddit           utc\n",
       "0  plzstoptalkingg     assholedesign  1.562740e+09\n",
       "1  plzstoptalkingg  BrandNewSentence  1.562711e+09\n",
       "2  plzstoptalkingg         goodomens  1.562644e+09\n",
       "3  plzstoptalkingg         goodomens  1.562636e+09\n",
       "4  plzstoptalkingg     relationships  1.562629e+09"
      ]
     },
     "execution_count": 60,
     "metadata": {},
     "output_type": "execute_result"
    }
   ],
   "source": [
    "df = pd.read_csv('../data/reddit_ratings.csv', header=None)\n",
    "df.columns = ['username', 'subreddit', 'utc']\n",
    "df.head()"
   ]
  },
  {
   "cell_type": "code",
   "execution_count": 61,
   "metadata": {},
   "outputs": [],
   "source": [
    "#limit each user to 1000 comments\n",
    "df = df.groupby('username', group_keys=False).apply(lambda x: x[:1000])\n",
    "\n",
    "#only count user interactions on unique subreddits\n",
    "df = df.drop_duplicates(subset=['username', 'subreddit'])\n",
    "\n",
    "#only count users that have interacted with at least 10 subreddits\n",
    "df = df.groupby('username').filter(lambda x: len(x) >= 10)\n",
    "\n",
    "df['username'] = df['username'].str.lower()\n",
    "df['subreddit'] = df['subreddit'].str.lower()"
   ]
  },
  {
   "cell_type": "code",
   "execution_count": 76,
   "metadata": {},
   "outputs": [],
   "source": [
    "df['username'] = df['username'].astype('category')\n",
    "df['subreddit'] = df['subreddit'].astype('category')"
   ]
  },
  {
   "cell_type": "code",
   "execution_count": 77,
   "metadata": {},
   "outputs": [],
   "source": [
    "username_categories = df['username'].cat.categories\n",
    "user_dict = {i: cat for i, cat in enumerate(username_categories)}\n",
    "inv_user_dict = {cat: i for i, cat in enumerate(username_categories)}\n",
    "\n",
    "subreddit_categories = df['subreddit'].cat.categories\n",
    "subreddit_dict = {i: cat for i, cat in enumerate(subreddit_categories)}\n",
    "inv_subreddit_dict = {cat: i for i, cat in enumerate(subreddit_categories)}"
   ]
  },
  {
   "cell_type": "code",
   "execution_count": 78,
   "metadata": {},
   "outputs": [],
   "source": [
    "with open('../data/user10.json', 'w') as f:\n",
    "    json.dump([user_dict, inv_user_dict], f)\n",
    "    \n",
    "with open('../data/subreddit10.json', 'w') as f:\n",
    "    json.dump([subreddit_dict, inv_subreddit_dict], f)"
   ]
  },
  {
   "cell_type": "code",
   "execution_count": 79,
   "metadata": {},
   "outputs": [],
   "source": [
    "df['username'] = df['username'].cat.codes\n",
    "df['subreddit'] = df['subreddit'].cat.codes"
   ]
  },
  {
   "cell_type": "code",
   "execution_count": 80,
   "metadata": {},
   "outputs": [],
   "source": [
    "df_train = df.groupby('username', group_keys=False).apply(lambda group: group.iloc[1:])\n",
    "df_test_positive = df.groupby('username', group_keys=False).first().reset_index()"
   ]
  },
  {
   "cell_type": "code",
   "execution_count": 81,
   "metadata": {
    "scrolled": false
   },
   "outputs": [
    {
     "name": "stdout",
     "output_type": "stream",
     "text": [
      "Processing: 0\n",
      "Processing: 500\n",
      "Processing: 1000\n",
      "Processing: 1500\n",
      "Processing: 2000\n",
      "Processing: 2500\n",
      "Processing: 3000\n",
      "Processing: 3500\n",
      "Processing: 4000\n",
      "Processing: 4500\n",
      "Processing: 5000\n",
      "Processing: 5500\n",
      "Processing: 6000\n",
      "Processing: 6500\n",
      "Processing: 7000\n",
      "Processing: 7500\n",
      "Processing: 8000\n",
      "Processing: 8500\n",
      "Processing: 9000\n",
      "Processing: 9500\n",
      "Processing: 10000\n",
      "Processing: 10500\n",
      "Processing: 11000\n",
      "Processing: 11500\n",
      "Processing: 12000\n",
      "Processing: 12500\n",
      "Processing: 13000\n",
      "Processing: 13500\n",
      "Processing: 14000\n",
      "Processing: 14500\n",
      "Processing: 15000\n",
      "Processing: 15500\n",
      "Processing: 16000\n",
      "Processing: 16500\n",
      "Processing: 17000\n",
      "Processing: 17500\n",
      "Processing: 18000\n",
      "Processing: 18500\n",
      "Processing: 19000\n",
      "Processing: 19500\n",
      "Processing: 20000\n",
      "Processing: 20500\n",
      "Processing: 21000\n",
      "Processing: 21500\n",
      "Processing: 22000\n",
      "Processing: 22500\n",
      "Processing: 23000\n",
      "Processing: 23500\n",
      "Processing: 24000\n",
      "Processing: 24500\n",
      "Processing: 25000\n",
      "Processing: 25500\n",
      "Processing: 26000\n",
      "Processing: 26500\n",
      "Processing: 27000\n",
      "Processing: 27500\n",
      "Processing: 28000\n",
      "Processing: 28500\n",
      "Processing: 29000\n",
      "Processing: 29500\n"
     ]
    }
   ],
   "source": [
    "df_test_negative = pd.DataFrame(columns=['user_item'] + ['negativeItemID' + str(i) for i in range(1,100)])\n",
    "subreddits = range(df['subreddit'].nunique())\n",
    "\n",
    "for i, row in df_test_positive.iterrows():\n",
    "    if i%500 == 0:\n",
    "        print('Processing: ' + str(i))\n",
    "    username = row['username']\n",
    "    subreddit = row['subreddit']\n",
    "    rating = (username, subreddit)\n",
    "    user_subreddits = df[df['username'] == username]['subreddit'].unique()\n",
    "    user_neg_subreddits = [sub for sub in subreddits if sub not in user_subreddits]\n",
    "    sampled_neg_subreddits = random.sample(user_neg_subreddits, k=99)\n",
    "    df_test_negative.loc[len(df_test_negative)] = [rating] + sampled_neg_subreddits"
   ]
  },
  {
   "cell_type": "code",
   "execution_count": 89,
   "metadata": {},
   "outputs": [],
   "source": [
    "df_train.to_csv('../data/reddit_train_10.csv', index=False, header=False)\n",
    "df_test_positive.to_csv('../data/reddit_test_positive_10.csv', index=False, header=False)\n",
    "df_test_negative.to_csv('../data/reddit_test_negative_10.csv', index=False, header=False)"
   ]
  }
 ],
 "metadata": {
  "kernelspec": {
   "display_name": "Python 3",
   "language": "python",
   "name": "python3"
  },
  "language_info": {
   "codemirror_mode": {
    "name": "ipython",
    "version": 3
   },
   "file_extension": ".py",
   "mimetype": "text/x-python",
   "name": "python",
   "nbconvert_exporter": "python",
   "pygments_lexer": "ipython3",
   "version": "3.7.1"
  }
 },
 "nbformat": 4,
 "nbformat_minor": 2
}
